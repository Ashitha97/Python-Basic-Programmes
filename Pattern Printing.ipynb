{
 "cells": [
  {
   "cell_type": "code",
   "execution_count": 10,
   "metadata": {},
   "outputs": [
    {
     "name": "stdout",
     "output_type": "stream",
     "text": [
      "5\n",
      "     1\n",
      "    121\n",
      "   12321\n",
      "  1234321\n",
      " 123454321\n"
     ]
    }
   ],
   "source": [
    "n=int(input())\n",
    "b=n-1\n",
    "for i in range(1,n+1):\n",
    "    x=int(\"1\"*i)\n",
    "    q=x**2\n",
    "    print(\" \"*(n-1),q)\n",
    "    n=n-1"
   ]
  },
  {
   "cell_type": "code",
   "execution_count": 6,
   "metadata": {},
   "outputs": [
    {
     "name": "stdout",
     "output_type": "stream",
     "text": [
      "9\n",
      "     *     \n",
      "    ***    \n",
      "   *****   \n",
      "  *******  \n",
      " ********* \n"
     ]
    }
   ],
   "source": [
    "n=int(input())\n",
    "b=n//2\n",
    "for i in range(0,n+1):\n",
    "    if i%2!=0:\n",
    "        print(b*' ',i*'*',b*' ')\n",
    "        b=b-1"
   ]
  },
  {
   "cell_type": "code",
   "execution_count": null,
   "metadata": {},
   "outputs": [],
   "source": []
  }
 ],
 "metadata": {
  "kernelspec": {
   "display_name": "Python 3",
   "language": "python",
   "name": "python3"
  },
  "language_info": {
   "codemirror_mode": {
    "name": "ipython",
    "version": 3
   },
   "file_extension": ".py",
   "mimetype": "text/x-python",
   "name": "python",
   "nbconvert_exporter": "python",
   "pygments_lexer": "ipython3",
   "version": "3.7.3"
  }
 },
 "nbformat": 4,
 "nbformat_minor": 2
}
